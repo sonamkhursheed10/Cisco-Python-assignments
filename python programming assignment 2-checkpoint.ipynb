{
 "cells": [
  {
   "cell_type": "code",
   "execution_count": null,
   "metadata": {},
   "outputs": [],
   "source": [
    "English = int(input(\"enter English number=\"))\n",
    "Sindhi = int(input(\"enter Sindhi number=\"))\n",
    "Biology = int(input(\"enter Biology number=\"))\n",
    "Pakistan_studies = int(input(\"enter Pakistan_studies number=\"))\n",
    "Chemistry = int(input(\"enter Chemistry number=\"))\n",
    "total= English+Sindhi+Biology+Pakistan_studies+Chemistry\n",
    "percent=total*100/500\n",
    "print(\"Your total number is\"+\" \"+str(total))\n",
    "print(\"your percentage is\"+\" \"+str(percent))\n",
    "if percent>=90 and percent<=100:\n",
    "    print(\"Congratulation! Your Grade is A1\")\n",
    "elif percent<90 and percent>=80:\n",
    "    print(\"Congratulation! Your Grade is A+\")\n",
    "elif percent<80 and percent>=70:\n",
    "    print(\"Congratulation! Your Grade is A\")\n",
    "elif percent<70 and percent>=60:\n",
    "    print(\"Congratulation! Your Grade is B\")\n",
    "elif percent<60 and percent>=50:\n",
    "    \n",
    "    print(\"Congratulation! Your Grade is C\")\n",
    "else:\n",
    "    print(\"OOPS! You are Failed\")\n"
   ]
  },
  {
   "cell_type": "code",
   "execution_count": 1,
   "metadata": {},
   "outputs": [
    {
     "name": "stdout",
     "output_type": "stream",
     "text": [
      "Enter number 3\n",
      "Number is odd\n"
     ]
    }
   ],
   "source": [
    " number = int(input(\"Enter number \"))\n",
    "if(number%2)==0:\n",
    "    print(\"number is even\")\n",
    "else:\n",
    "    print(\"Number is odd\")"
   ]
  },
  {
   "cell_type": "code",
   "execution_count": 3,
   "metadata": {},
   "outputs": [
    {
     "name": "stdout",
     "output_type": "stream",
     "text": [
      "4\n"
     ]
    }
   ],
   "source": [
    "list = [\"apple\",\"banana\",\"mango\",\"orange\"]\n",
    "print(len(list))"
   ]
  },
  {
   "cell_type": "code",
   "execution_count": 5,
   "metadata": {},
   "outputs": [
    {
     "name": "stdout",
     "output_type": "stream",
     "text": [
      "911\n"
     ]
    }
   ],
   "source": [
    "def sum_list(items):\n",
    "    sum_numbers = 1\n",
    "    for x in items:\n",
    "        sum_numbers += x\n",
    "    return sum_numbers\n",
    "print(sum_list([875,44,90,-99]))"
   ]
  },
  {
   "cell_type": "code",
   "execution_count": 6,
   "metadata": {},
   "outputs": [
    {
     "name": "stdout",
     "output_type": "stream",
     "text": [
      "114\n"
     ]
    }
   ],
   "source": [
    "def find_max( list ):\n",
    "    max = list[0]\n",
    "    for a in list:\n",
    "        if a > max:\n",
    "            max = a\n",
    "    return max\n",
    "print(find_max([10,13,114]))"
   ]
  },
  {
   "cell_type": "code",
   "execution_count": 7,
   "metadata": {},
   "outputs": [
    {
     "name": "stdout",
     "output_type": "stream",
     "text": [
      "1\n",
      "1\n",
      "2\n",
      "3\n",
      "5\n"
     ]
    }
   ],
   "source": [
    "list =  [1,1,2,3,5,8,13,21,34,55,89]\n",
    "for value in list:\n",
    "    if value <=5:\n",
    "            print(value)"
   ]
  },
  {
   "cell_type": "code",
   "execution_count": null,
   "metadata": {},
   "outputs": [],
   "source": []
  }
 ],
 "metadata": {
  "kernelspec": {
   "display_name": "Python 3",
   "language": "python",
   "name": "python3"
  },
  "language_info": {
   "codemirror_mode": {
    "name": "ipython",
    "version": 3
   },
   "file_extension": ".py",
   "mimetype": "text/x-python",
   "name": "python",
   "nbconvert_exporter": "python",
   "pygments_lexer": "ipython3",
   "version": "3.7.4"
  }
 },
 "nbformat": 4,
 "nbformat_minor": 2
}
