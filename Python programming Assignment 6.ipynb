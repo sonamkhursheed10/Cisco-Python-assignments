{
 "cells": [
  {
   "cell_type": "markdown",
   "metadata": {},
   "source": [
    "QUESTION NO1<br>\n",
    "<b>OBJECT ORIENTED PROGRAMMING</b>\n",
    "   <blockquote>This Object-oriented programming (OOP) refers to a type of computer programming (software design) in which programmers define the data type of a data structure, and also the types of operations (functions) that can be applied to the data structure.In this way, the data structure becomes an object that includes both data and functions. In addition, programmers can create relationships between one object and another. For example, objects can inherit characteristics from other objects.\n",
    "    For instance, an object could represent a person with a name property, age, address, etc., with behaviors like walking, talking, breathing, and running. Or an email with properties like recipient list, subject, body, etc., and behaviors like adding attachments and sending.\n",
    "\n",
    "Put another way, object-oriented programming is an approach for modeling concrete, real-world things like cars as well as relations between things like companies and employees, students and teachers, etc. OOP models real-world entities as software objects, which have some data associated with them and can perform certain functions.\n",
    "\n",
    "</blockquote>\n",
    "    \n"
   ]
  },
  {
   "cell_type": "markdown",
   "metadata": {},
   "source": [
    "QUESTION2:<br>\n",
    "   <b> BENIFITS OF OOP</b>\n",
    "1. Simplicity: software objects model real world objects, so the complexity is reduced and the program structure is very clear\n",
    "2. Modularity: each object forms a separate entity whose internal workings are decoupled from other parts of the system; \n",
    "3. Modifiability: it is easy to make minor changes in the data representation or the procedures in an OO program. Changes inside a class do not affect any other part of a program, since the only public interface that the external world has to a class is through the use of methods; \n",
    "4. Extensibility: adding new features or responding to changing operating environments can be solved by introducing a few new objects and modifying some existing ones; \n",
    "5. Maintainability: objects can be maintained separately, making locating and fixing problems easier; \n",
    "6. Re-usability: objects can be reused in different programs."
   ]
  },
  {
   "cell_type": "markdown",
   "metadata": {},
   "source": [
    "QUESTION3<br>\n",
    "<b>DIFFERENTIATE BETWEEN FUNCTION AND METHOD</b>\n",
    "<table border=\"2px black\">\n",
    "<tr>\n",
    "<td><b><center>METHODS<center><b> </td>\n",
    "<td><b><center>FUNCTIONS<center><b></td>\n",
    "</tr>\n",
    "<tr>\n",
    "<td>\n",
    "Method is called by its name, but it is associated to an object (dependent).\n",
    "A method is implicitly passed the object on which it is invoked.\n",
    "It may or may not return any data.\n",
    "A method can operate on the data (instance variables) that is contained by the corresponding class</td>\n",
    "<td>\n",
    "Simply, function and method both look similar as they perform in almost similar way, but the key difference is the concept of ‘Class and its Object‘.\n",
    "Functions can be called only by its name, as it is defined independently. But methods can’t be called by its name only, we need to invoke the class by a reference of that class in which it is defined, i.e. method is defined within a class and hence they are dependent on that class</td>\n",
    "</tr>\n",
    "</table>"
   ]
  },
  {
   "cell_type": "markdown",
   "metadata": {},
   "source": [
    "QUESTION 4 <br>\n",
    "<b>class</b><br>\n",
    "A class is a blueprint for the object.We can think of class as an sketch of a parrot with labels. It contains all the details about the name, colors, size etc. Based on these descriptions, we can study about the parrot. Here, parrot is an object.\n",
    "The example for class of parrot can be :\n",
    "<b><pre>class Parrot:\n",
    "    pass</pre></b><br>\n",
    "<b>Object</b><br>\n",
    "An object (instance) is an instantiation of a class. When class is defined, only the description for the object is defined. Therefore, no memory or storage is allocated.The example for object of parrot class can be:<br>\n",
    "obj = Parrot()<br>\n",
    "<b>Attribute</b><br>\n",
    "In Object-oriented programming(OOP), classes and objects have attributes. Attributes are data stored inside a class or instance and represent the state or quality of the class or instance. In short, attributes store information about the instance.<br>\n",
    "<b>Behaviour</b><br>\n",
    "The behavior of an object is defined by its methods, which are the functions and subroutines defined within the object class. Methods determine what type of functionality a class has, how it modifies its data, and its overall behavior\n"
   ]
  },
  {
   "cell_type": "code",
   "execution_count": 19,
   "metadata": {},
   "outputs": [
    {
     "name": "stdout",
     "output_type": "stream",
     "text": [
      "Engine started\n",
      "Engine switched off\n",
      "Applay break\n",
      "2000\n",
      "c200\n",
      "50Lac\n"
     ]
    }
   ],
   "source": [
    "#QUESTION5\n",
    "class car:\n",
    "    name = \"c200\"\n",
    "    make = \"mercedez\"\n",
    "    model = 2000\n",
    "    price = \"50Lac\"\n",
    "    owner = \"Ibrahim\"\n",
    "    def start(self):\n",
    "        print (\"Engine started\")\n",
    "    def stop(self):\n",
    "        print (\"Engine switched off\")\n",
    "    def breakk (self):\n",
    "        print (\"Applay break\")\n",
    "# Creates car_a object of car class\n",
    "car_a = car()\n",
    "car_a.start()\n",
    "car_a.stop()\n",
    "car_a.breakk()\n",
    "print(car_a.model)\n",
    "print(car_a.name)\n",
    "print(car_a.price)\n",
    "\n",
    "\n",
    "\n"
   ]
  },
  {
   "cell_type": "code",
   "execution_count": null,
   "metadata": {},
   "outputs": [],
   "source": []
  },
  {
   "cell_type": "code",
   "execution_count": null,
   "metadata": {},
   "outputs": [],
   "source": []
  }
 ],
 "metadata": {
  "kernelspec": {
   "display_name": "Python 3",
   "language": "python",
   "name": "python3"
  },
  "language_info": {
   "codemirror_mode": {
    "name": "ipython",
    "version": 3
   },
   "file_extension": ".py",
   "mimetype": "text/x-python",
   "name": "python",
   "nbconvert_exporter": "python",
   "pygments_lexer": "ipython3",
   "version": "3.7.4"
  }
 },
 "nbformat": 4,
 "nbformat_minor": 2
}
