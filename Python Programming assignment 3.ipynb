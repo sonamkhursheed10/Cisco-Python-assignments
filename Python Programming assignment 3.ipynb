{
 "cells": [
  {
   "cell_type": "code",
   "execution_count": ,
   "metadata": {},
   "outputs": [
    {
     "name": "stdout",
     "output_type": "stream",
     "text": [
      "Enter First Value2\n",
      "Enter Second Value4\n",
      "Enter Operator**\n",
      "16 is answer\n"
     ]
    }
   ],
   "source": [
    "#Question1\n",
    "val1=  int(input(\" Enter First Value  \"))\n",
    "val2 = int(input(\" Enter Second Value  \"))\n",
    "operator = input(\" Enter Operator\")\n",
    "if operator =='+':\n",
    "    val = val1+val2\n",
    "    print(val , \"is answer\")\n",
    "elif operator =='-':\n",
    "    val = val1-val2\n",
    "    print(val , \"is answer\")\n",
    "elif operator =='*':\n",
    "    val = val1*val2\n",
    "    print(val , \"is answer\")\n",
    "elif operator =='/':\n",
    "    val = val1/val2\n",
    "    print(val , \"is answer\")\n",
    "elif operator =='**':\n",
    "    val = val1**val2\n",
    "    print(val , \"is answer\")"
   ]
  },
  {
   "cell_type": "code",
   "execution_count": 37,
   "metadata": {},
   "outputs": [
    {
     "name": "stdout",
     "output_type": "stream",
     "text": [
      "False\n",
      "True\n"
     ]
    }
   ],
   "source": [
    "#Question2\n",
    "string= ["abc",3,"cde",5]"
      "for x in string:
         "print(string.isnumeric())\n",
   ]
  },
  {
   "cell_type": "code",
   "execution_count": 39,
   "metadata": {},
   "outputs": [
    {
     "name": "stdout",
     "output_type": "stream",
     "text": [
      "{'name': 'sonam', 'program': 'BSSE', 'Year': 2016, 'course': 'python'}\n"
     ]
    }
   ],
   "source": [
    "#Question3\n",
    "customer={\n",
    "    \"name\":\"sonam\", \"program\": \"BSSE\",\"Year\": 2016  \n",
    "}\n",
    "\n",
    "customer['course']='python'\n",
    "print(customer)\n"
   ]
  },
  {
   "cell_type": "code",
   "execution_count": 11,
   "metadata": {},
   "outputs": [
    {
     "name": "stdout",
     "output_type": "stream",
     "text": [
      "3920\n"
     ]
    }
   ],
   "source": [
    "#Question4\n",
    "dict = {'A1':1100,'A2':-594,'A3':2847,'A4':567}\n",
    "print(sum(dict.values()))"
   ]
  },
  {
   "cell_type": "code",
   "execution_count": 42,
   "metadata": {},
   "outputs": [
    {
     "name": "stdout",
     "output_type": "stream",
     "text": [
      "[12]\n"
     ]
    }
   ],
   "source": [
    "#Question5\n",
    "lst = [3,6,9,12,5,4,12]\n",
    "uniqItems={}\n",
    "dupItems=[]\n",
    "for x in lst:\n",
    "    if x not in uniqItems:\n",
    "        uniqItems[x] = 1\n",
    "    else:\n",
    "        if uniqItems[x] == 1:\n",
    "            dupItems.append(x)\n",
    "            uniqItems[x] += 1\n",
    "print(dupItems)\n",
    "\n"
   ]
  },
  {
   "cell_type": "code",
   "execution_count": 46,
   "metadata": {},
   "outputs": [
    {
     "name": "stdout",
     "output_type": "stream",
     "text": [
      "Key is present in the dictionary\n",
      "Key is not present in the dictionary\n",
      "Key is present in the dictionary\n"
     ]
    }
   ],
   "source": [
    "#Question6\n",
    "#dictionary\n",
    "d = {1: 10, 2: 20, 3: 30, 4: 40, 5: 50, 6: 60, 7:0}\n",
    "def is_key_present(x):\n",
    "    if x in d:\n",
    "        print('Key is present in the dictionary')\n",
    "    else:\n",
    "        print('Key is not present in the dictionary')\n",
    "is_key_present(5)\n",
    "is_key_present(9)\n",
    "is_key_present(7)"
   ]
  },
  {
   "cell_type": "code",
   "execution_count": null,
   "metadata": {},
   "outputs": [],
   "source": []
  }
 ],
 "metadata": {
  "kernelspec": {
   "display_name": "Python 3",
   "language": "python",
   "name": "python3"
  },
  "language_info": {
   "codemirror_mode": {
    "name": "ipython",
    "version": 3
   },
   "file_extension": ".py",
   "mimetype": "text/x-python",
   "name": "python",
   "nbconvert_exporter": "python",
   "pygments_lexer": "ipython3",
   "version": "3.7.4"
  }
 },
 "nbformat": 4,
 "nbformat_minor": 2
}
