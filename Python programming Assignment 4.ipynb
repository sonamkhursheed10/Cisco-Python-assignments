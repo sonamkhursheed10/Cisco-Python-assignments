{
 "cells": [
  {
   "cell_type": "code",
   "execution_count": 2,
   "metadata": {},
   "outputs": [
    {
     "name": "stdout",
     "output_type": "stream",
     "text": [
      "{'first_name': 'Rafia', 'last_name': 'Hadi', 'age': 25, 'city': 'Islamabad'}\n",
      "{'first_name': 'Rafia', 'last_name': 'Hadi', 'age': 25, 'city': 'Islamabad', 'Qualificiation': 'BS Software Engineering'}\n",
      "{'first_name': 'Rafia', 'last_name': 'Hadi', 'age': 25, 'city': 'Islamabad'}\n"
     ]
    }
   ],
   "source": [
    "#Question1\n",
    "data={\n",
    "    \"first_name\":\"Rafia\" ,\n",
    "    \"last_name\":\"Hadi\", \n",
    "    \"age\":25,\n",
    "    \"city\":\"Islamabad\"\n",
    "}\n",
    "#print information\n",
    "print(data)\n",
    "#add qualification\n",
    "data[\"Qualificiation\"]=\"BS Software Engineering\"\n",
    "print(data)\n",
    "#delete qualification\n",
    "data.pop(\"Qualificiation\")\n",
    "print(data)\n",
    "\n"
   ]
  },
  {
   "cell_type": "code",
   "execution_count": 64,
   "metadata": {},
   "outputs": [
    {
     "name": "stdout",
     "output_type": "stream",
     "text": [
      "1. Karchi \n",
      "   Pakistan  \n",
      "   14900000  \n",
      "   World’s second most populous town\n",
      "2.NewDehli \n",
      "   India  \n",
      "   257803  \n",
      "   The Delhi Metro system was voted the 2nd best in the world\n",
      "3.  Shanghai \n",
      "   China  \n",
      "   26317000  \n",
      "   Shanghai is a world finance and cultural center\n"
     ]
    }
   ],
   "source": [
    "#Question2\n",
    "cities= {1:{\"city\":\"Karchi\",\"Country\":\"Pakistan\",\"Population\":\"14900000\",\"Fact\": \"World’s second most populous town\" },\n",
    "         2:{\"city\":\"NewDehli\",\"Country\":\"India\", \"Population\":\"257803\", \"Fact\": \"The Delhi Metro system was voted the 2nd best in the world\"},\n",
    "         3:{\"city\":\"Shanghai\",\"Country\":\"China\",\"Population\":\"26317000\", \"Fact\":  \"Shanghai is a world finance and cultural center\"}\n",
    "        }\n",
    "print(\"1. \" + cities[1][\"city\"] +\" \\n   \"+ cities[1][\"Country\"] +\"  \\n   \"+ cities[1][\"Population\"] +\"  \\n   \"+ cities[1][\"Fact\"])\n",
    "print (\"2.\" + cities[2][\"city\"] +\" \\n   \"+ cities[2][\"Country\"]  +\"  \\n   \"+ cities[2][\"Population\"]+\"  \\n   \"+ cities[2][\"Fact\"])\n",
    "print (\"3.  \" + cities[3][\"city\"] +\" \\n   \"    + cities[3][\"Country\"]  +\"  \\n   \"+ cities[3][\"Population\"]+\"  \\n   \"   + cities[3][\"Fact\"])\n",
    "\n",
    "\n",
    "\n"
   ]
  },
  {
   "cell_type": "code",
   "execution_count": 87,
   "metadata": {},
   "outputs": [
    {
     "name": "stdout",
     "output_type": "stream",
     "text": [
      "Enter age:  13\n",
      "The Ticket of movie is $15\n"
     ]
    }
   ],
   "source": [
    "#Question3\n",
    "age=int(input(\"Enter age:  \"))\n",
    "if age < 3:\n",
    "     print(\"The Ticket of movie is free\")\n",
    "elif age == 3 or age <= 12:\n",
    "       print(\"The Ticket of movie is $10\")\n",
    "else:\n",
    "       print(\"The Ticket of movie is $15\")\n",
    "\n",
    "        \n",
    "    \n",
    "    "
   ]
  },
  {
   "cell_type": "code",
   "execution_count": 91,
   "metadata": {},
   "outputs": [
    {
     "name": "stdout",
     "output_type": "stream",
     "text": [
      "One of my favorite books is Alice in Wonderland\n"
     ]
    }
   ],
   "source": [
    "#Question4\n",
    "def favorite_book(title):\n",
    "     print(\"One of my favorite books is\"+title)\n",
    "favorite_book(\" Alice in Wonderland\")\n",
    "\n"
   ]
  },
  {
   "cell_type": "code",
   "execution_count": null,
   "metadata": {},
   "outputs": [],
   "source": [
    "#Question5\n",
    "import random\n",
    "secret_number = random.randint(1, 30)\n",
    "tries, guess = 0, 0\n",
    "while guess != secret_number:\n",
    "    guess = int(input(\"Guess a number (<30): \"))\n",
    "    if guess > secret_number:\n",
    "        print(\"Lower...\")\n",
    "    elif guess < secret_number:\n",
    "        print(\"Higher...\")\n",
    "    tries += 1\n",
    "print('You guessed it! The number was {} in {} tries'.format(guess, tries))"
   ]
  },
  {
   "cell_type": "code",
   "execution_count": null,
   "metadata": {},
   "outputs": [],
   "source": []
  },
  {
   "cell_type": "code",
   "execution_count": null,
   "metadata": {},
   "outputs": [],
   "source": []
  },
  {
   "cell_type": "code",
   "execution_count": null,
   "metadata": {},
   "outputs": [],
   "source": []
  }
 ],
 "metadata": {
  "kernelspec": {
   "display_name": "Python 3",
   "language": "python",
   "name": "python3"
  },
  "language_info": {
   "codemirror_mode": {
    "name": "ipython",
    "version": 3
   },
   "file_extension": ".py",
   "mimetype": "text/x-python",
   "name": "python",
   "nbconvert_exporter": "python",
   "pygments_lexer": "ipython3",
   "version": "3.7.4"
  }
 },
 "nbformat": 4,
 "nbformat_minor": 2
}
